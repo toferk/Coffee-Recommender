{
 "cells": [
  {
   "cell_type": "markdown",
   "metadata": {},
   "source": [
    "# Cosine Similarity"
   ]
  },
  {
   "cell_type": "markdown",
   "metadata": {},
   "source": [
    "The final decision of our recommender system: In this notebook, we will select which features of the coffee to compare, transform them, and implement different recommender systems."
   ]
  },
  {
   "cell_type": "code",
   "execution_count": 161,
   "metadata": {},
   "outputs": [],
   "source": [
    "import pandas as pd\n",
    "from scipy import sparse\n",
    "from sklearn.feature_extraction.text  import TfidfVectorizer\n",
    "from sklearn.decomposition import TruncatedSVD\n",
    "from sklearn.preprocessing import StandardScaler\n",
    "from sklearn.metrics.pairwise import pairwise_distances\n",
    "import numpy as np"
   ]
  },
  {
   "cell_type": "code",
   "execution_count": 162,
   "metadata": {},
   "outputs": [],
   "source": [
    "df = pd.read_csv('../data/coffee_clean.csv')\n",
    "names_df = pd.read_csv('../data/coffee_id.csv')"
   ]
  },
  {
   "cell_type": "markdown",
   "metadata": {},
   "source": [
    "## Feature-based Recommender"
   ]
  },
  {
   "cell_type": "markdown",
   "metadata": {},
   "source": [
    "- Select which features to consider\n",
    "- Scale the data\n",
    "- Create a recommender based on their cosine similarity"
   ]
  },
  {
   "cell_type": "code",
   "execution_count": 172,
   "metadata": {},
   "outputs": [
    {
     "data": {
      "text/plain": [
       "(4887, 27)"
      ]
     },
     "execution_count": 172,
     "metadata": {},
     "output_type": "execute_result"
    }
   ],
   "source": [
    "df.shape"
   ]
  },
  {
   "cell_type": "code",
   "execution_count": 163,
   "metadata": {},
   "outputs": [],
   "source": [
    "regions = ['region_africa_arabia', 'region_caribbean', 'region_central_america', \n",
    "           'region_hawaii', 'region_asia_pacific', 'region_south_america']\n",
    "types = ['type_espresso', 'type_organic', 'type_fair_trade', \n",
    "         'type_decaffeinated', 'type_pod_capsule', 'type_blend', 'type_estate']\n",
    "roasts = ['roast_dark', 'roast_light', 'roast_medium', 'roast_medium_dark',\n",
    "       'roast_medium_light', 'roast_very_dark', 'roast_nan']\n",
    "\n",
    "#select all features\n",
    "features = ['aroma','acid_or_milk','body','flavor','type_with_milk'] + roasts + types + regions"
   ]
  },
  {
   "cell_type": "code",
   "execution_count": 164,
   "metadata": {},
   "outputs": [],
   "source": [
    "def set_filter(filter_on = None, df=df):\n",
    "    try: \n",
    "        slugs = df[df[filter_on] == 1]['slug']\n",
    "        filtered_df = df[df[filter_on] == 1][features]\n",
    "        #create array of scaled data\n",
    "        ss = StandardScaler()\n",
    "        ss_fitted = ss.fit_transform(filtered_df)\n",
    "\n",
    "        #calculate cosine similarities and create dataframe\n",
    "        features_recommender = pairwise_distances(ss_fitted, metric='cosine')\n",
    "        features_recommender_df = pd.DataFrame(features_recommender, index = slugs, columns = slugs)\n",
    "        return features_recommender_df\n",
    "\n",
    "    except KeyError as e:\n",
    "        print(f\"Sorry {e} is not a valid filter\")"
   ]
  },
  {
   "cell_type": "code",
   "execution_count": 165,
   "metadata": {
    "scrolled": true
   },
   "outputs": [],
   "source": [
    "idx = df['slug']\n",
    "\n",
    "#create array of scaled data\n",
    "ss = StandardScaler()\n",
    "ss_fitted = ss.fit_transform(df[features])\n",
    "\n",
    "#calculate cosine similarities and create dataframe of all similarities\n",
    "features_recommender = pairwise_distances(ss_fitted, metric='cosine')\n",
    "features_recommender_df = pd.DataFrame(features_recommender, index = df['slug'], columns = df['slug'])"
   ]
  },
  {
   "cell_type": "markdown",
   "metadata": {},
   "source": [
    "## Text/Description-Based Recommender"
   ]
  },
  {
   "cell_type": "markdown",
   "metadata": {},
   "source": [
    "Latent Semantic Analysis:\n",
    "   - Create TFIDF vectors of text data\n",
    "   - Reduce dimensionality using TruncatedSVD \n",
    "   - Create a recommender based on their cosine similarity"
   ]
  },
  {
   "cell_type": "code",
   "execution_count": 166,
   "metadata": {},
   "outputs": [],
   "source": [
    "normer = Normalizer(norm='l1')"
   ]
  },
  {
   "cell_type": "code",
   "execution_count": 167,
   "metadata": {},
   "outputs": [],
   "source": [
    "#TFIDF with specific n-gram range and max features\n",
    "tfidf = TfidfVectorizer(min_df=2, ngram_range=(2,4),max_features=10000)\n",
    "tfidf_fitted = tfidf.fit_transform(df['clean_text'])\n",
    "\n",
    "#TruncatedSVD transformation, number of components\n",
    "tsvd = TruncatedSVD(n_components=225,random_state=36)\n",
    "tsvd_fitted = tsvd.fit_transform(tfidf_fitted)\n",
    "\n",
    "#calculate cosine similarities and create dataframe of all similarities\n",
    "text_recommender = pairwise_distances(tsvd_fitted, metric='cosine')\n",
    "\n",
    "\n",
    "text_recommender_df = pd.DataFrame(text_recommender, index = df['slug'], columns = df['slug'])"
   ]
  },
  {
   "cell_type": "markdown",
   "metadata": {},
   "source": [
    "## Combination Recommender"
   ]
  },
  {
   "cell_type": "markdown",
   "metadata": {},
   "source": [
    "We have 225 components from our text data and 25 categorical and numerical features.  \n",
    "Our combination recommender's similarity is based 90% of text, and 10% of categorical and numerical features."
   ]
  },
  {
   "cell_type": "code",
   "execution_count": 168,
   "metadata": {
    "scrolled": true
   },
   "outputs": [],
   "source": [
    "#combine arrays of scaled numerical features and truncatedsvd array\n",
    "joined = np.concatenate((ss_fitted, tsvd_fitted), axis=1)\n",
    "\n",
    "#calculate cosine similarities and create dataframe of all similarities\n",
    "full_recommender = pairwise_distances(joined, metric='cosine')\n",
    "\n",
    "\n",
    "full_recommender_df = pd.DataFrame(full_recommender, index = df['slug'], columns = df['slug'])"
   ]
  },
  {
   "cell_type": "markdown",
   "metadata": {},
   "source": [
    "### Function to print recommendations:"
   ]
  },
  {
   "cell_type": "code",
   "execution_count": 169,
   "metadata": {},
   "outputs": [],
   "source": [
    "def get_recommendations(input_slug, rec_df, names_df, \n",
    "                        pick_best = True, n_nearest = 10):\n",
    "    '''\n",
    "    Prints coffee recommendation.\n",
    "\n",
    "    input_slug: Slug of coffee to make comparisons with\n",
    "    rec_df: DataFrame of recommendations with cosine similarities\n",
    "    names_df: DataFrame of coffee slugs, name, and roaster\n",
    "    pick_best: Picks the highest rated coffee of the 'n_nearest' most similar coffees.\n",
    "    n_nearest: Number of coffees to compare the coffees to (when pick_best = True)\n",
    "    '''\n",
    "    \n",
    "    \n",
    "    input_name = names_df[names_df['slug'] == input_slug]['name'].to_string(index = False)\n",
    "    input_roaster = names_df[names_df['slug'] == input_slug]['roaster'].to_string(index = False)\n",
    "    \n",
    "    sims = names_df.join(rec_df[input_slug], how='outer', on='slug')\n",
    "    sorted_sims = sims.drop(sims[sims['slug'] == input_slug].index).sort_values(by = input_slug)\n",
    "    \n",
    "    \n",
    "    if pick_best:\n",
    "        print(\"*Recommending the highest rated coffee out of the\", n_nearest, \"most similar coffees*\")\n",
    "        rec = sorted_sims[0:n_nearest].sort_values(by='rating', ascending=False).iloc[0]\n",
    "    else:\n",
    "        print(\"*Recommending the most similar coffee*\")\n",
    "        rec = sorted_sims.iloc[0]\n",
    "    \n",
    "    \n",
    "    print(\"If you like \" + input_name + \" by \" + input_roaster +\n",
    "         \", you might also like \" + rec['name'] + \" by \" + rec['roaster'] + \".\")\n",
    "    print(\"\\nCompare for yourself:\\n\",\n",
    "         \"https://www.coffeereview.com/review/\" + input_slug,\n",
    "         \"\\n https://www.coffeereview.com/review/\" + rec['slug'])\n",
    "    print(\"\\nCosine Similarity: \", round(rec.loc[input_slug],3))"
   ]
  },
  {
   "cell_type": "code",
   "execution_count": 170,
   "metadata": {},
   "outputs": [],
   "source": [
    "test_slug = np.random.choice(df['slug'])"
   ]
  },
  {
   "cell_type": "code",
   "execution_count": 171,
   "metadata": {
    "scrolled": false
   },
   "outputs": [
    {
     "name": "stdout",
     "output_type": "stream",
     "text": [
      "\n",
      "(Based on Text Description)\n",
      "*Recommending the most similar coffee*\n",
      "If you like Don Quijote Cafe de Costa Rica by The Roasterie, you might also like Tanzania by Joe's Coffee House.\n",
      "\n",
      "Compare for yourself:\n",
      " https://www.coffeereview.com/review/don-quijote-cafe-de-costa-rica \n",
      " https://www.coffeereview.com/review/tanzania\n",
      "\n",
      "Cosine Similarity:  0.489\n",
      "\n",
      "-------------------------------------\n",
      "\n",
      "(Based on Ratings, Roast, Type, and Region)\n",
      "*Recommending the most similar coffee*\n",
      "If you like Don Quijote Cafe de Costa Rica by The Roasterie, you might also like Organic Bali Kintamani Highlands by Wicked Joe.\n",
      "\n",
      "Compare for yourself:\n",
      " https://www.coffeereview.com/review/don-quijote-cafe-de-costa-rica \n",
      " https://www.coffeereview.com/review/organic-bali-kintamani-highlands\n",
      "\n",
      "Cosine Similarity:  0.0\n",
      "\n",
      "-------------------------------------\n",
      "\n",
      "(Based on Everything)\n",
      "*Recommending the most similar coffee*\n",
      "If you like Don Quijote Cafe de Costa Rica by The Roasterie, you might also like Papua New Guinea Light Roast by Camano Island Coffee Roasters.\n",
      "\n",
      "Compare for yourself:\n",
      " https://www.coffeereview.com/review/don-quijote-cafe-de-costa-rica \n",
      " https://www.coffeereview.com/review/papua-new-guinea-light-roast\n",
      "\n",
      "Cosine Similarity:  0.019\n"
     ]
    }
   ],
   "source": [
    "aanum_comparisons = 5\n",
    "best_rating = False\n",
    "\n",
    "print(\"\\n(Based on Text Description)\")\n",
    "get_recommendations(test_slug, text_recommender_df, names_df, n_nearest=num_comparisons, pick_best = best_rating)\n",
    "\n",
    "print('\\n-------------------------------------')\n",
    "print(\"\\n(Based on Ratings, Roast, Type, and Region)\")\n",
    "get_recommendations(test_slug, features_recommender_df, names_df, n_nearest=num_comparisons, pick_best = best_rating)\n",
    "\n",
    "print('\\n-------------------------------------')\n",
    "\n",
    "print(\"\\n(Based on Everything)\")\n",
    "get_recommendations(test_slug, full_recommender_df,names_df,  n_nearest=num_comparisons, pick_best = best_rating)"
   ]
  },
  {
   "cell_type": "code",
   "execution_count": null,
   "metadata": {},
   "outputs": [],
   "source": []
  },
  {
   "cell_type": "markdown",
   "metadata": {},
   "source": [
    "Now that we have three recommender systems, moving forward we will need to pick one of the three to conduct A/B hypothesis testing on to determine whether or not the system is useful."
   ]
  },
  {
   "cell_type": "markdown",
   "metadata": {},
   "source": [
    "### Good slugs for presentation:\n",
    "`100-colombia-instant-coffee` (20, True)  \n",
    "`la-esmeralda` (10, False)  \n",
    "`panama-lerida-estate-sonias-crop` (15,True)  \n",
    "`italian-roast` (10,True)"
   ]
  },
  {
   "cell_type": "code",
   "execution_count": null,
   "metadata": {},
   "outputs": [],
   "source": []
  }
 ],
 "metadata": {
  "kernelspec": {
   "display_name": "Python [default]",
   "language": "python",
   "name": "python3"
  },
  "language_info": {
   "codemirror_mode": {
    "name": "ipython",
    "version": 3
   },
   "file_extension": ".py",
   "mimetype": "text/x-python",
   "name": "python",
   "nbconvert_exporter": "python",
   "pygments_lexer": "ipython3",
   "version": "3.6.5"
  }
 },
 "nbformat": 4,
 "nbformat_minor": 2
}
